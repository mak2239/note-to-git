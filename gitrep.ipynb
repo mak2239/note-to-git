{
  "metadata": {
    "kernelspec": {
      "name": "python",
      "display_name": "Python (Pyodide)",
      "language": "python"
    },
    "language_info": {
      "codemirror_mode": {
        "name": "python",
        "version": 3
      },
      "file_extension": ".py",
      "mimetype": "text/x-python",
      "name": "python",
      "nbconvert_exporter": "python",
      "pygments_lexer": "ipython3",
      "version": "3.8"
    }
  },
  "nbformat_minor": 4,
  "nbformat": 4,
  "cells": [
    {
      "cell_type": "markdown",
      "source": "# Life of Pie ",
      "metadata": {}
    },
    {
      "cell_type": "markdown",
      "source": "The time has come to set sail and fail while I move to success like a snail ",
      "metadata": {}
    },
    {
      "cell_type": "markdown",
      "source": "1. SQL\n2. Java\n3. Java script",
      "metadata": {}
    },
    {
      "cell_type": "markdown",
      "source": "1. Matplotlib\n2. Panda\n3. Scipy",
      "metadata": {}
    },
    {
      "cell_type": "markdown",
      "source": "| Data Science Tools |\n|--------------------|\n| Jupyter Notebook   |\n| RStudio            |\n| VS Code            |\n",
      "metadata": {}
    },
    {
      "cell_type": "markdown",
      "source": "\n4. **Division**: Dividing one number by another.\n",
      "metadata": {}
    },
    {
      "cell_type": "code",
      "source": "# Define the numbers\nnum1 = 5\nnum2 = 3\n\n# Multiply the numbers\nmultiplication_result = num1 * num2\n\n# Add the numbers\naddition_result = num1 + num2\n",
      "metadata": {
        "trusted": true
      },
      "outputs": [],
      "execution_count": 6
    },
    {
      "cell_type": "code",
      "source": "# Define the number of minutes\nminutes = 120\n\n# Convert minutes to hours\nhours = minutes / 60\n",
      "metadata": {
        "trusted": true
      },
      "outputs": [],
      "execution_count": 7
    },
    {
      "cell_type": "markdown",
      "source": "## Objectives\n\n- Understand basic arithmetic operations in Python.\n- Learn how to use Python for mathematical calculations.\n- Practice converting units of time, such as minutes to hours.\n",
      "metadata": {}
    },
    {
      "cell_type": "markdown",
      "source": "**Author:** [Aswad Khan]\n",
      "metadata": {}
    },
    {
      "cell_type": "code",
      "source": "",
      "metadata": {
        "trusted": true
      },
      "outputs": [],
      "execution_count": null
    }
  ]
}